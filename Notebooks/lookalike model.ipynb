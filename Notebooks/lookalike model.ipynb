{
 "cells": [
  {
   "cell_type": "code",
   "execution_count": 1,
   "id": "529cab26",
   "metadata": {},
   "outputs": [],
   "source": [
    "import pandas as pd\n",
    "import numpy as np\n",
    "from datetime import datetime\n",
    "\n"
   ]
  },
  {
   "cell_type": "code",
   "execution_count": 2,
   "id": "5d36b161",
   "metadata": {},
   "outputs": [],
   "source": [
    "def create_customer_profiles(customers, products, transactions):\n",
    "   profiles = {}\n",
    "   \n",
    "   for _, customer in customers.iterrows():\n",
    "       profiles[customer['CustomerID']] = {\n",
    "           'name': customer['CustomerName'],\n",
    "           'region': customer['Region'],\n",
    "           'signupDate': datetime.strptime(customer['SignupDate'], '%Y-%m-%d'),\n",
    "           'totalSpent': 0,\n",
    "           'categories': {},\n",
    "           'transactionCount': 0,\n",
    "           'avgOrderValue': 0\n",
    "       }\n",
    "   \n",
    "   for _, tx in transactions.iterrows():\n",
    "       profile = profiles[tx['CustomerID']]\n",
    "       product = products[products['ProductID'] == tx['ProductID']].iloc[0]\n",
    "       \n",
    "       profile['totalSpent'] += float(tx['TotalValue'])\n",
    "       profile['transactionCount'] += 1\n",
    "       profile['categories'][product['Category']] = profile['categories'].get(product['Category'], 0) + 1\n",
    "   \n",
    "   for profile in profiles.values():\n",
    "       if profile['transactionCount'] > 0:\n",
    "           profile['avgOrderValue'] = profile['totalSpent'] / profile['transactionCount']\n",
    "   \n",
    "   return profiles\n",
    "\n"
   ]
  },
  {
   "cell_type": "code",
   "execution_count": 3,
   "id": "7d645782",
   "metadata": {},
   "outputs": [],
   "source": [
    "def calculate_similarity(profile1, profile2):\n",
    "   region_sim = 1 if profile1['region'] == profile2['region'] else 0\n",
    "   \n",
    "   spending_ratio = min(profile1['totalSpent'], profile2['totalSpent']) / max(profile1['totalSpent'], profile2['totalSpent'])\n",
    "   \n",
    "   aov_ratio = min(profile1['avgOrderValue'], profile2['avgOrderValue']) / max(profile1['avgOrderValue'], profile2['avgOrderValue']) if max(profile1['avgOrderValue'], profile2['avgOrderValue']) > 0 else 0\n",
    "   \n",
    "   categories = set(list(profile1['categories'].keys()) + list(profile2['categories'].keys()))\n",
    "   category_sim = 0\n",
    "   \n",
    "   for category in categories:\n",
    "       cat1 = profile1['categories'].get(category, 0)\n",
    "       cat2 = profile2['categories'].get(category, 0)\n",
    "       max_cat = max(cat1, cat2)\n",
    "       category_sim += min(cat1, cat2) / max_cat if max_cat > 0 else 0\n",
    "   \n",
    "   category_sim = category_sim / len(categories) if categories else 0\n",
    "   \n",
    "   return round(\n",
    "       region_sim * 0.25 +\n",
    "       spending_ratio * 0.25 +\n",
    "       aov_ratio * 0.20 +\n",
    "       category_sim * 0.30,\n",
    "       3\n",
    "   )\n",
    "\n"
   ]
  },
  {
   "cell_type": "code",
   "execution_count": 4,
   "id": "24758361",
   "metadata": {},
   "outputs": [],
   "source": [
    "def create_profiles_and_lookalikes():\n",
    "   customers = pd.read_csv('Customers.csv')\n",
    "   products = pd.read_csv('Products.csv')\n",
    "   transactions = pd.read_csv('Transactions.csv')\n",
    "   \n",
    "   profiles = create_customer_profiles(customers, products, transactions)\n",
    "   \n",
    "   results = {}\n",
    "   target_customers = sorted([cid for cid in profiles.keys() if cid <= 'C0020'])\n",
    "   \n",
    "   for target_id in target_customers:\n",
    "       similarities = []\n",
    "       target_profile = profiles[target_id]\n",
    "       \n",
    "       for cust_id, profile in profiles.items():\n",
    "           if cust_id != target_id:\n",
    "               score = calculate_similarity(target_profile, profile)\n",
    "               similarities.append({'cust_id': cust_id, 'score': score})\n",
    "       \n",
    "       top_3 = sorted(similarities, key=lambda x: x['score'], reverse=True)[:3]\n",
    "       results[target_id] = [[m['cust_id'], m['score']] for m in top_3]\n",
    "   \n",
    "   df = pd.DataFrame({'customer_map': [results]})\n",
    "   df.to_csv('Lookalike.csv', index=False)\n",
    "   \n",
    "   return results\n",
    "\n"
   ]
  },
  {
   "cell_type": "code",
   "execution_count": 5,
   "id": "ce6a2674",
   "metadata": {},
   "outputs": [],
   "source": [
    "# Execute\n",
    "lookalike_map = create_profiles_and_lookalikes()\n",
    "\n"
   ]
  }
 ],
 "metadata": {
  "kernelspec": {
   "display_name": "Python 3 (ipykernel)",
   "language": "python",
   "name": "python3"
  },
  "language_info": {
   "codemirror_mode": {
    "name": "ipython",
    "version": 3
   },
   "file_extension": ".py",
   "mimetype": "text/x-python",
   "name": "python",
   "nbconvert_exporter": "python",
   "pygments_lexer": "ipython3",
   "version": "3.11.7"
  }
 },
 "nbformat": 4,
 "nbformat_minor": 5
}
